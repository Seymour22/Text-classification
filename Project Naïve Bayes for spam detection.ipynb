{
 "cells": [
  {
   "cell_type": "markdown",
   "id": "a8780ea1",
   "metadata": {},
   "source": [
    "# Naïve Bayes for spam detection"
   ]
  },
  {
   "cell_type": "markdown",
   "id": "7ab6a8b4",
   "metadata": {},
   "source": [
    "Here I develop a Naïve Bayes algorithm to detect spam in emails"
   ]
  },
  {
   "cell_type": "markdown",
   "id": "b7fa9aeb",
   "metadata": {},
   "source": [
    "The notebook is divided into 3 parts\n",
    "\n",
    "   1. Data pre-processing\n",
    "   2. Building a Naïve Bayes model for spam classification\n",
    "   3. Model implementation\n"
   ]
  },
  {
   "cell_type": "markdown",
   "id": "0052c099",
   "metadata": {},
   "source": [
    "## 1) Data pre-processing"
   ]
  },
  {
   "cell_type": "code",
   "execution_count": 14,
   "id": "f56a7814",
   "metadata": {},
   "outputs": [
    {
     "name": "stderr",
     "output_type": "stream",
     "text": [
      "[nltk_data] Downloading package punkt to /Users/seymour/nltk_data...\n",
      "[nltk_data]   Package punkt is already up-to-date!\n",
      "[nltk_data] Downloading package stopwords to\n",
      "[nltk_data]     /Users/seymour/nltk_data...\n",
      "[nltk_data]   Package stopwords is already up-to-date!\n"
     ]
    }
   ],
   "source": [
    "import os\n",
    "import numpy as np\n",
    "from sklearn.feature_extraction.text import CountVectorizer\n",
    "from sklearn.naive_bayes import MultinomialNB\n",
    "from sklearn.metrics import accuracy_score\n",
    "from sklearn.model_selection import train_test_split\n",
    "import string\n",
    "import re\n",
    "import nltk\n",
    "nltk.download('punkt')\n",
    "nltk.download('stopwords')\n",
    "from nltk.corpus import stopwords\n",
    "from nltk.tokenize import word_tokenize\n",
    "from nltk.stem import PorterStemmer"
   ]
  },
  {
   "cell_type": "code",
   "execution_count": 15,
   "id": "3b202ddd",
   "metadata": {},
   "outputs": [],
   "source": [
    "data_dir = '/Users/seymour/Downloads/enron1'\n",
    "class_names = ['ham', 'spam']\n"
   ]
  },
  {
   "cell_type": "code",
   "execution_count": 16,
   "id": "b800b2c8",
   "metadata": {},
   "outputs": [],
   "source": [
    "#Define function to process text\n",
    "def preprocess(text):\n",
    "    text = text.translate(str.maketrans('', '', string.punctuation))\n",
    "    text = text.lower()\n",
    "    text = re.sub(r'\\d+', '', text)\n",
    "    tokens = word_tokenize(text)\n",
    "\n",
    "    stop_words = set(stopwords.words('english'))\n",
    "    tokens = [token for token in tokens if token not in stop_words]\n",
    "    stemmer = PorterStemmer()\n",
    "    tokens = [stemmer.stem(token) for token in tokens]\n",
    "    text = ' '.join(tokens)\n",
    "    return text"
   ]
  },
  {
   "cell_type": "code",
   "execution_count": 17,
   "id": "4a464c88",
   "metadata": {},
   "outputs": [],
   "source": [
    "# Create a list to store the preprocessed text data and labels\n",
    "data = []\n",
    "labels = []\n",
    "\n",
    "for i, class_name in enumerate(class_names):\n",
    "    class_dir = os.path.join(data_dir, class_name)\n",
    "    for file_name in os.listdir(class_dir):\n",
    "        with open(os.path.join(class_dir, file_name), 'r', encoding='ISO-8859-1') as f:\n",
    "            text = f.read()\n",
    "        preprocessed_text = preprocess(text)\n",
    "        data.append(preprocessed_text)\n",
    "        labels.append(i)\n",
    "\n",
    "vectorizer = CountVectorizer()\n",
    "X = vectorizer.fit_transform(data)\n",
    "y = np.array(labels)\n",
    "\n",
    "X_train, X_test, y_train, y_test = train_test_split(X, y, test_size=0.2, random_state=42)"
   ]
  },
  {
   "cell_type": "markdown",
   "id": "c00dc4ab",
   "metadata": {},
   "source": [
    "## 2) Building a Naïve Bayes model for spam classification"
   ]
  },
  {
   "cell_type": "code",
   "execution_count": 18,
   "id": "dc810e75",
   "metadata": {},
   "outputs": [
    {
     "name": "stdout",
     "output_type": "stream",
     "text": [
      "Accuracy on the testing set: 0.983\n"
     ]
    }
   ],
   "source": [
    "alpha_values = [0.01, 0.1, 1, 10, 100]\n",
    "best_accuracy = 0\n",
    "best_alpha = 0\n",
    "for alpha in alpha_values:\n",
    "    model = MultinomialNB(alpha=alpha)\n",
    "    model.fit(X_train, y_train)\n",
    "    y_pred = model.predict(X_test)\n",
    "    accuracy = accuracy_score(y_test, y_pred)\n",
    "    if accuracy > best_accuracy:\n",
    "        best_accuracy = accuracy\n",
    "        best_alpha = alpha\n",
    "\n",
    "model = MultinomialNB(alpha=best_alpha)\n",
    "model.fit(X_train, y_train)\n",
    "y_pred = model.predict(X_test)\n",
    "accuracy = accuracy_score(y_test, y_pred)\n",
    "print(f\"Accuracy on the testing set: {accuracy:.3f}\")"
   ]
  },
  {
   "cell_type": "markdown",
   "id": "b2bc9e24",
   "metadata": {},
   "source": [
    "## 3) Model implementation"
   ]
  },
  {
   "cell_type": "code",
   "execution_count": 19,
   "id": "c5653eb1",
   "metadata": {},
   "outputs": [],
   "source": [
    "# Test the model on new data\n",
    "def test_text_classifier(new_text):\n",
    "    new_text_processed = preprocess(new_text)\n",
    "    new_text_vectorized = vectorizer.transform([new_text_processed])\n",
    "    prediction = model.predict(new_text_vectorized)[0]\n",
    "    if prediction == 1:\n",
    "        print(f\"The message '{new_text}' is classified as spam.\")\n",
    "    else:\n",
    "        print(f\"The message '{new_text}' is not classified as spam.\")\n"
   ]
  },
  {
   "cell_type": "code",
   "execution_count": 20,
   "id": "8e25c04d",
   "metadata": {},
   "outputs": [
    {
     "name": "stdout",
     "output_type": "stream",
     "text": [
      "The message 'Hi did you get my email. Please update James asap!' is not classified as spam.\n"
     ]
    }
   ],
   "source": [
    "test_text_classifier(\"Hi did you get my email. Please update James asap!\")"
   ]
  },
  {
   "cell_type": "code",
   "execution_count": 21,
   "id": "41367e58",
   "metadata": {},
   "outputs": [
    {
     "name": "stdout",
     "output_type": "stream",
     "text": [
      "The message 'Hi you have won a price! Contact me for more information' is classified as spam.\n"
     ]
    }
   ],
   "source": [
    "test_text_classifier(\"Hi you have won a price! Contact me for more information\")"
   ]
  },
  {
   "cell_type": "code",
   "execution_count": null,
   "id": "81a8a503",
   "metadata": {},
   "outputs": [],
   "source": []
  }
 ],
 "metadata": {
  "kernelspec": {
   "display_name": "Python 3 (ipykernel)",
   "language": "python",
   "name": "python3"
  },
  "language_info": {
   "codemirror_mode": {
    "name": "ipython",
    "version": 3
   },
   "file_extension": ".py",
   "mimetype": "text/x-python",
   "name": "python",
   "nbconvert_exporter": "python",
   "pygments_lexer": "ipython3",
   "version": "3.9.5"
  }
 },
 "nbformat": 4,
 "nbformat_minor": 5
}
